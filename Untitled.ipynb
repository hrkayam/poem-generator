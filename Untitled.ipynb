{
 "cells": [
  {
   "cell_type": "code",
   "execution_count": 1,
   "metadata": {},
   "outputs": [],
   "source": [
    "import codecs\n",
    "import random\n",
    "import sys\n",
    "\n",
    "from tel2eng import romanize_file"
   ]
  },
  {
   "cell_type": "code",
   "execution_count": 2,
   "metadata": {},
   "outputs": [],
   "source": [
    "with codecs.open('satakam.txt', encoding='utf-8') as f:\n",
    "    poems = f.readlines()"
   ]
  },
  {
   "cell_type": "code",
   "execution_count": 3,
   "metadata": {},
   "outputs": [],
   "source": [
    "poems = ''.join([i for i in poems if not i.isdigit()]).replace(\"\\n\\n\", \" \").split(' ')"
   ]
  },
  {
   "cell_type": "code",
   "execution_count": 4,
   "metadata": {},
   "outputs": [],
   "source": [
    "index = 1\n",
    "chain = {}\n",
    "count = 10 # Desired word count of output"
   ]
  },
  {
   "cell_type": "code",
   "execution_count": 5,
   "metadata": {},
   "outputs": [],
   "source": [
    "# This loop creates a dicitonary called \"chain\". Each key is a word, and the value of each key\n",
    "# is an array of the words that immediately followed it.\n",
    "for word in poems[index:]:\n",
    "    key = poems[index - 1]\n",
    "    if key in chain:\n",
    "        chain[key].append(word)\n",
    "    else:\n",
    "        chain[key] = [word]\n",
    "    index += 1\n",
    "\n",
    "word1 = random.choice(list(chain.keys())) #random first word\n",
    "message = word1"
   ]
  },
  {
   "cell_type": "code",
   "execution_count": 6,
   "metadata": {},
   "outputs": [
    {
     "name": "stdout",
     "output_type": "stream",
     "text": [
      "చచ్చున్నట్లు\n",
      "మునిగిఁ\n"
     ]
    }
   ],
   "source": [
    "print(message)"
   ]
  },
  {
   "cell_type": "code",
   "execution_count": 7,
   "metadata": {},
   "outputs": [],
   "source": [
    "# Picks the next word over and over until word count achieved\n",
    "while len(message.split(' ')) < count:\n",
    "    word2 = random.choice(chain[word1])\n",
    "    word1 = word2\n",
    "    message += ' ' + word2"
   ]
  },
  {
   "cell_type": "code",
   "execution_count": 8,
   "metadata": {},
   "outputs": [
    {
     "name": "stdout",
     "output_type": "stream",
     "text": [
      "చచ్చున్నట్లు\n",
      "మునిగిఁ వెడల లేఁడు ధరణి వేమ! తను దాఁదెలియక\n",
      "కూలును తొలిజామునందు గొబ్బున నీరాదు\n",
      "విశ్వదాభిరామ\n"
     ]
    }
   ],
   "source": [
    "print(message)"
   ]
  },
  {
   "cell_type": "code",
   "execution_count": 9,
   "metadata": {},
   "outputs": [],
   "source": [
    "f = open('poem2.txt', 'wb')\n",
    "f.write(message.encode('utf8'))\n",
    "f.close()"
   ]
  },
  {
   "cell_type": "code",
   "execution_count": 10,
   "metadata": {},
   "outputs": [
    {
     "name": "stdout",
     "output_type": "stream",
     "text": [
      "['చచ్చున్నట్లు', 'మునిగిఁ వెడల లేఁడు ధరణి వేమ! తను దాఁదెలియక', 'కూలును తొలిజామునందు గొబ్బున నీరాదు', 'విశ్వదాభిరామ']\n",
      "చచ్చున్నట్లు\n",
      "caccunnaṭlu\n",
      "మునిగిఁ వెడల లేఁడు ధరణి వేమ! తను దాఁదెలియక\n",
      "munigim̐ veḍala lēm̐ḍu dharaṇi vēma! tanu dām̐deliyaka\n",
      "కూలును తొలిజామునందు గొబ్బున నీరాదు\n",
      "kūlunu tolijāmunaṁdu gobbuna nīrādu\n",
      "విశ్వదాభిరామ\n",
      "viśvadābhirāma\n"
     ]
    }
   ],
   "source": [
    "rt = romanize_file(\"poem2\")"
   ]
  },
  {
   "cell_type": "code",
   "execution_count": null,
   "metadata": {},
   "outputs": [],
   "source": []
  }
 ],
 "metadata": {
  "kernelspec": {
   "display_name": "Python 3",
   "language": "python",
   "name": "python3"
  },
  "language_info": {
   "codemirror_mode": {
    "name": "ipython",
    "version": 3
   },
   "file_extension": ".py",
   "mimetype": "text/x-python",
   "name": "python",
   "nbconvert_exporter": "python",
   "pygments_lexer": "ipython3",
   "version": "3.7.4"
  }
 },
 "nbformat": 4,
 "nbformat_minor": 4
}
